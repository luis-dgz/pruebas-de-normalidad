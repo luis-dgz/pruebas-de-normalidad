{
 "cells": [
  {
   "cell_type": "markdown",
   "metadata": {},
   "source": [
    "# Test de normalidad\n",
    "**Autor:** Luis Alfredo Blanco Domínguez  \n",
    "**Fecha:** Marzo 2025"
   ]
  }
 ],
 "metadata": {
  "language_info": {
   "name": "python"
  }
 },
 "nbformat": 4,
 "nbformat_minor": 2
}
